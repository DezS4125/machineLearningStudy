{
 "cells": [
  {
   "cell_type": "code",
   "execution_count": 10,
   "id": "1801d29f-1f2a-4213-9b36-ee0126e9e9ab",
   "metadata": {},
   "outputs": [],
   "source": [
    "import pandas as pd"
   ]
  },
  {
   "cell_type": "code",
   "execution_count": 11,
   "id": "fb2ebdb5-c31d-4ea2-ac3c-dc2b28f885d6",
   "metadata": {},
   "outputs": [],
   "source": [
    "#import train and labels\n",
    "def getData(filename):\n",
    "    df=pd.read_csv(filename,header=None)\n",
    "    train_df=df.iloc[:,:-1]\n",
    "    label=df.iloc[:,-1]\n",
    "    return train_df, label"
   ]
  },
  {
   "cell_type": "code",
   "execution_count": 12,
   "id": "f21c9b10-12a4-4e58-9ba2-7a073bf1032e",
   "metadata": {},
   "outputs": [],
   "source": [
    "import numpy as np\n",
    "\n",
    "#implement distance cal\n",
    "def euclidean(p1, p2):\n",
    "    dist = np.sqrt(np.sum((p1 - p2) ** 2))\n",
    "    return dist\n",
    "\n",
    "def manhattan(p1,p2):\n",
    "    dist = np.sum(np.abs(p1-p2))\n",
    "    return dist"
   ]
  },
  {
   "cell_type": "code",
   "execution_count": 13,
   "id": "ed832bff-a56d-480e-bd0a-03db06a0a624",
   "metadata": {},
   "outputs": [],
   "source": [
    "from scipy.stats import mode\n",
    "from collections import Counter\n",
    "\n",
    "def majority_vote(labels):\n",
    "    vote_counts = Counter(labels)\n",
    "    winner, winner_count = vote_counts.most_common(1)[0]\n",
    "    return winner\n",
    "\n",
    "\n",
    "def predict(x_train, y, x_input, k):\n",
    "    op_labels = []\n",
    "    for index_input, row_input in x_input.iterrows():\n",
    "        distances = []\n",
    "        \n",
    "        for index_train, row_train in x_train.iterrows():\n",
    "            distance = euclidean(row_train, row_input)\n",
    "            distances.append((distance,y[index_train]))\n",
    "            \n",
    "        distances_df = pd.DataFrame(distances, columns=['distances', 'labels'])\n",
    "        \n",
    "        distances_df = distances_df.sort_values(by=['distances'])\n",
    "        \n",
    "        distances_df=distances_df.head(k)\n",
    "\n",
    "        op_labels.append(majority_vote(distances_df['labels']))\n",
    "    return op_labels"
   ]
  },
  {
   "cell_type": "code",
   "execution_count": 16,
   "id": "0cd7df74-0a7f-4b56-b502-02d95a463c55",
   "metadata": {},
   "outputs": [],
   "source": [
    "train_file = \"data/iris/iris.trn\"\n",
    "test_file = \"data/iris/iris.tst\"\n",
    "\n",
    "train_df, train_label = getData(train_file)\n",
    "test_df, test_label = getData(test_file)\n",
    "\n",
    "prediction_labels=predict(train_df,train_label,test_df,1)"
   ]
  },
  {
   "cell_type": "code",
   "execution_count": 20,
   "id": "d5da0d3c-69cc-4e5d-8108-8ca2a3086400",
   "metadata": {},
   "outputs": [
    {
     "name": "stdout",
     "output_type": "stream",
     "text": [
      "Accuracy: 0.94\n",
      "Confusion matrix:\n",
      "[[17  0  0]\n",
      " [ 0 15  0]\n",
      " [ 0  3 15]]\n"
     ]
    }
   ],
   "source": [
    "from sklearn.metrics import accuracy_score, confusion_matrix\n",
    "accuracy = accuracy_score(test_label, prediction_labels)\n",
    "conf_mat = confusion_matrix(test_label, prediction_labels)\n",
    "print(f\"Accuracy: {accuracy}\")\n",
    "print(f\"Confusion matrix:\\n{conf_mat}\")"
   ]
  },
  {
   "cell_type": "code",
   "execution_count": null,
   "id": "e44d7c56-3185-46dd-9c21-2335e158ecfc",
   "metadata": {},
   "outputs": [],
   "source": []
  }
 ],
 "metadata": {
  "kernelspec": {
   "display_name": "Python 3 (ipykernel)",
   "language": "python",
   "name": "python3"
  },
  "language_info": {
   "codemirror_mode": {
    "name": "ipython",
    "version": 3
   },
   "file_extension": ".py",
   "mimetype": "text/x-python",
   "name": "python",
   "nbconvert_exporter": "python",
   "pygments_lexer": "ipython3",
   "version": "3.10.13"
  }
 },
 "nbformat": 4,
 "nbformat_minor": 5
}
