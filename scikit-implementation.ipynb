{
 "cells": [
  {
   "cell_type": "code",
   "execution_count": 1,
   "id": "331fb7f7-fa9e-44cf-aec7-3d10bb59a2ed",
   "metadata": {},
   "outputs": [],
   "source": [
    "import pandas as pd"
   ]
  },
  {
   "cell_type": "code",
   "execution_count": 2,
   "id": "a9fc5d6c-24d1-4757-bf49-116643242753",
   "metadata": {},
   "outputs": [],
   "source": [
    "#import train and labels\n",
    "from sklearn.model_selection import train_test_split\n",
    "\n",
    "# Assuming that 'df' is your DataFrame and 'y' is your target variable\n",
    "def getData(filename):\n",
    "    df=pd.read_csv(filename,header=None)\n",
    "    train_df=df.iloc[:,:-1]\n",
    "    label=df.iloc[:,-1]\n",
    "    return train_df, label\n",
    "def getData2(filename):\n",
    "    df=pd.read_csv(filename,delimiter=\" \",header=None)\n",
    "    train_df=df.iloc[:,:-1]\n",
    "    label=df.iloc[:,-1]\n",
    "    return train_df, label\n",
    "def getData3(filename):\n",
    "    df=pd.read_csv(filename,header=None)\n",
    "    data_df=df.iloc[:,:-1]\n",
    "    label=df.iloc[:,-1]\n",
    "    X_train, X_test, y_train, y_test = train_test_split(data_df, label, test_size=0.2, random_state=0)\n",
    "    return X_train, X_test, y_train, y_test"
   ]
  },
  {
   "cell_type": "code",
   "execution_count": 3,
   "id": "a16ea17a-5f5f-4836-bf2e-9e16a3b032cd",
   "metadata": {},
   "outputs": [],
   "source": [
    "# train_file = \"data/optics/opt.trn\"\n",
    "# test_file = \"data/optics/opt.tst\"\n",
    "\n",
    "# X_train, y_train = getData(train_file)\n",
    "# X_test, y_test = getData(test_file)\\\n"
   ]
  },
  {
   "cell_type": "code",
   "execution_count": 8,
   "id": "2c527c30-2b4e-4c55-b1bf-bf353b821028",
   "metadata": {},
   "outputs": [],
   "source": [
    "from sklearn.model_selection import train_test_split\n",
    "from sklearn.preprocessing import StandardScaler\n",
    "from sklearn.neighbors import KNeighborsClassifier\n",
    "from sklearn.metrics import classification_report, confusion_matrix, accuracy_score\n",
    "\n",
    "def knn(X_train,y_train,X_test,y_test,k):\n",
    "    scaler = StandardScaler()\n",
    "    scaler.fit(X_train)\n",
    "    \n",
    "    X_train = scaler.transform(X_train)\n",
    "    X_test = scaler.transform(X_test)\n",
    "    model = KNeighborsClassifier(n_neighbors=k)\n",
    "    model.fit(X_train, y_train)\n",
    "    \n",
    "    y_pred = model.predict(X_test)\n",
    "    \n",
    "    print(confusion_matrix(y_test, y_pred))\n",
    "    print(classification_report(y_test, y_pred))\n",
    "    print(accuracy_score(y_test, y_pred))"
   ]
  },
  {
   "cell_type": "code",
   "execution_count": 10,
   "id": "d3b0a0f4-36ec-43f4-8a7a-f013f14353ae",
   "metadata": {},
   "outputs": [
    {
     "name": "stdout",
     "output_type": "stream",
     "text": [
      "[[17  0  0]\n",
      " [ 0 15  0]\n",
      " [ 0  6 12]]\n",
      "              precision    recall  f1-score   support\n",
      "\n",
      "           0       1.00      1.00      1.00        17\n",
      "           1       0.71      1.00      0.83        15\n",
      "           2       1.00      0.67      0.80        18\n",
      "\n",
      "    accuracy                           0.88        50\n",
      "   macro avg       0.90      0.89      0.88        50\n",
      "weighted avg       0.91      0.88      0.88        50\n",
      "\n",
      "0.88\n"
     ]
    }
   ],
   "source": [
    "# train_file = \"data/fp/fp.trn\"\n",
    "# test_file = \"data/fp/fp.tst\"\n",
    "\n",
    "train_file = \"data/iris/iris.trn\"\n",
    "test_file = \"data/iris/iris.tst\"\n",
    "\n",
    "# train_file = \"data/letter/let.trn\"\n",
    "# test_file = \"data/letter/let.tst\"\n",
    "\n",
    "# train_file = \"data/leukemia/ALLAML.trn\"\n",
    "# test_file = \"data/leukemia/ALLAML.tst\"\n",
    "\n",
    "# train_file = \"data/optics/opt.trn\"\n",
    "# test_file = \"data/optics/opt.tst\"\n",
    "\n",
    "#ovarian and spam need another preprocess function\n",
    "k=1\n",
    "\n",
    "X_train, y_train = getData(train_file)\n",
    "X_test, y_test = getData(test_file)\n",
    "knn(X_train,y_train,X_test,y_test,k)"
   ]
  },
  {
   "cell_type": "code",
   "execution_count": null,
   "id": "12e459b8-6288-46db-9eb1-ee26779eb96f",
   "metadata": {},
   "outputs": [],
   "source": [
    "#delimiter = \" \"\n",
    "# train_file = \"data/fp107/fp107.trn\"\n",
    "# test_file = \"data/fp107/fp107.tst\" \n",
    "\n",
    "train_file = \"data/faces/data.trn\"\n",
    "test_file = \"data/faces/data.tst\"\n",
    "#ovarian and spam need another preprocess function\n",
    "k=3\n",
    "\n",
    "X_train, y_train = getData2(train_file)\n",
    "X_test, y_test = getData2(test_file)\n",
    "knn(X_train,y_train,X_test,y_test,k)"
   ]
  },
  {
   "cell_type": "code",
   "execution_count": null,
   "id": "dbd54d4f-55de-475b-99e6-983495aa0861",
   "metadata": {},
   "outputs": [],
   "source": [
    "# dataset_file = \"data/ovarian/ovarian.data\"\n",
    "dataset_file = \"data/spam/spam.data\"\n",
    "\n",
    "k=3\n",
    "\n",
    "X_train, X_test, y_train, y_test = getData3(dataset_file)\n",
    "knn(X_train,y_train,X_test,y_test,k)"
   ]
  },
  {
   "cell_type": "code",
   "execution_count": null,
   "id": "6f4ea55d-45e6-4994-b33c-916226f08936",
   "metadata": {},
   "outputs": [],
   "source": []
  }
 ],
 "metadata": {
  "kernelspec": {
   "display_name": "Python 3 (ipykernel)",
   "language": "python",
   "name": "python3"
  },
  "language_info": {
   "codemirror_mode": {
    "name": "ipython",
    "version": 3
   },
   "file_extension": ".py",
   "mimetype": "text/x-python",
   "name": "python",
   "nbconvert_exporter": "python",
   "pygments_lexer": "ipython3",
   "version": "3.10.13"
  }
 },
 "nbformat": 4,
 "nbformat_minor": 5
}
