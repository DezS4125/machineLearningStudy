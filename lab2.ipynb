{
 "cells": [
  {
   "cell_type": "code",
   "execution_count": 1,
   "id": "331fb7f7-fa9e-44cf-aec7-3d10bb59a2ed",
   "metadata": {},
   "outputs": [],
   "source": [
    "import pandas as pd"
   ]
  },
  {
   "cell_type": "code",
   "execution_count": 2,
   "id": "a9fc5d6c-24d1-4757-bf49-116643242753",
   "metadata": {},
   "outputs": [],
   "source": [
    "#import train and labels\n",
    "def getData(filename):\n",
    "    df=pd.read_csv(filename,header=None)\n",
    "    train_df=df.iloc[:,:-1]\n",
    "    label=df.iloc[:,-1]\n",
    "    return train_df, label"
   ]
  },
  {
   "cell_type": "code",
   "execution_count": 3,
   "id": "a16ea17a-5f5f-4836-bf2e-9e16a3b032cd",
   "metadata": {},
   "outputs": [],
   "source": [
    "train_file = \"data/optics/opt.trn\"\n",
    "test_file = \"data/optics/opt.tst\"\n",
    "\n",
    "X_train, y_train = getData(train_file)\n",
    "X_test, y_test = getData(test_file)"
   ]
  },
  {
   "cell_type": "code",
   "execution_count": 6,
   "id": "2c527c30-2b4e-4c55-b1bf-bf353b821028",
   "metadata": {},
   "outputs": [
    {
     "name": "stdout",
     "output_type": "stream",
     "text": [
      "[[178   0   0   0   0   0   0   0   0   0]\n",
      " [  0 178   1   0   0   0   3   0   0   0]\n",
      " [  0   8 164   0   1   1   1   0   2   0]\n",
      " [  0   1   1 174   0   0   0   1   4   2]\n",
      " [  0   1   0   0 176   0   0   0   2   2]\n",
      " [  0   0   0   0   1 180   0   0   0   1]\n",
      " [  0   0   0   0   0   0 181   0   0   0]\n",
      " [  0   0   0   0   0   0   0 175   1   3]\n",
      " [  0  10   0   1   0   2   0   0 159   2]\n",
      " [  0   0   0   4   0   3   1   1   2 169]]\n",
      "              precision    recall  f1-score   support\n",
      "\n",
      "           0       1.00      1.00      1.00       178\n",
      "           1       0.90      0.98      0.94       182\n",
      "           2       0.99      0.93      0.96       177\n",
      "           3       0.97      0.95      0.96       183\n",
      "           4       0.99      0.97      0.98       181\n",
      "           5       0.97      0.99      0.98       182\n",
      "           6       0.97      1.00      0.99       181\n",
      "           7       0.99      0.98      0.98       179\n",
      "           8       0.94      0.91      0.92       174\n",
      "           9       0.94      0.94      0.94       180\n",
      "\n",
      "    accuracy                           0.96      1797\n",
      "   macro avg       0.97      0.96      0.96      1797\n",
      "weighted avg       0.97      0.96      0.96      1797\n",
      "\n"
     ]
    }
   ],
   "source": [
    "from sklearn.model_selection import train_test_split\n",
    "from sklearn.preprocessing import StandardScaler\n",
    "from sklearn.neighbors import KNeighborsClassifier\n",
    "from sklearn.metrics import classification_report, confusion_matrix\n",
    "\n",
    "# Feature scaling\n",
    "scaler = StandardScaler()\n",
    "scaler.fit(X_train)\n",
    "\n",
    "X_train = scaler.transform(X_train)\n",
    "X_test = scaler.transform(X_test)\n",
    "\n",
    "# Training the model\n",
    "model = KNeighborsClassifier(n_neighbors=5)\n",
    "model.fit(X_train, y_train)\n",
    "\n",
    "# Making predictions\n",
    "y_pred = model.predict(X_test)\n",
    "\n",
    "# Evaluating the algorithm\n",
    "print(confusion_matrix(y_test, y_pred))\n",
    "print(classification_report(y_test, y_pred))"
   ]
  },
  {
   "cell_type": "code",
   "execution_count": null,
   "id": "d3b0a0f4-36ec-43f4-8a7a-f013f14353ae",
   "metadata": {},
   "outputs": [],
   "source": []
  }
 ],
 "metadata": {
  "kernelspec": {
   "display_name": "Python 3 (ipykernel)",
   "language": "python",
   "name": "python3"
  },
  "language_info": {
   "codemirror_mode": {
    "name": "ipython",
    "version": 3
   },
   "file_extension": ".py",
   "mimetype": "text/x-python",
   "name": "python",
   "nbconvert_exporter": "python",
   "pygments_lexer": "ipython3",
   "version": "3.10.13"
  }
 },
 "nbformat": 4,
 "nbformat_minor": 5
}
